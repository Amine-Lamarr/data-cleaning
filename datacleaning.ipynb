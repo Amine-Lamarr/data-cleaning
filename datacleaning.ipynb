{
  "nbformat": 4,
  "nbformat_minor": 0,
  "metadata": {
    "colab": {
      "provenance": [],
      "gpuType": "T4"
    },
    "kernelspec": {
      "name": "python3",
      "display_name": "Python 3"
    },
    "language_info": {
      "name": "python"
    },
    "accelerator": "GPU"
  },
  "cells": [
    {
      "cell_type": "code",
      "source": [
        "import pandas as pd\n",
        "import numpy as np\n",
        "from sklearn.preprocessing import LabelEncoder , StandardScaler\n",
        "from sklearn.impute import SimpleImputer\n",
        "from sklearn.model_selection import train_test_split , RandomizedSearchCV\n",
        "from sklearn.ensemble import RandomForestRegressor , GradientBoostingRegressor\n",
        "from sklearn.metrics import accuracy_score , precision_score , recall_score , classification_report\n",
        "from sklearn.svm import SVR\n",
        "from scipy.stats import randint"
      ],
      "metadata": {
        "id": "AeiNlbhww24A"
      },
      "execution_count": null,
      "outputs": []
    },
    {
      "cell_type": "code",
      "source": [
        "data = pd.read_csv(\"/content/Airbnb_Open_Data.csv\", on_bad_lines=\"skip\")\n",
        "print(\"rows :\" , data.shape[0])\n",
        "print(\"columns :\" , data.shape[1])\n",
        "print(\"columns : \")\n",
        "print(list(data.columns))\n",
        "print(\"-\"*65)\n",
        "data.info()"
      ],
      "metadata": {
        "colab": {
          "base_uri": "https://localhost:8080/"
        },
        "id": "IxEVW_IJxDN8",
        "outputId": "29bcdc50-d94f-41f4-cdc4-8d68a0a63ec5"
      },
      "execution_count": null,
      "outputs": [
        {
          "output_type": "stream",
          "name": "stdout",
          "text": [
            "rows : 102599\n",
            "columns : 26\n",
            "columns : \n",
            "['id', 'NAME', 'host id', 'host_identity_verified', 'host name', 'neighbourhood group', 'neighbourhood', 'lat', 'long', 'country', 'country code', 'instant_bookable', 'cancellation_policy', 'room type', 'Construction year', 'price', 'service fee', 'minimum nights', 'number of reviews', 'last review', 'reviews per month', 'review rate number', 'calculated host listings count', 'availability 365', 'house_rules', 'license']\n",
            "-----------------------------------------------------------------\n",
            "<class 'pandas.core.frame.DataFrame'>\n",
            "RangeIndex: 102599 entries, 0 to 102598\n",
            "Data columns (total 26 columns):\n",
            " #   Column                          Non-Null Count   Dtype  \n",
            "---  ------                          --------------   -----  \n",
            " 0   id                              102599 non-null  int64  \n",
            " 1   NAME                            102349 non-null  object \n",
            " 2   host id                         102599 non-null  int64  \n",
            " 3   host_identity_verified          102310 non-null  object \n",
            " 4   host name                       102193 non-null  object \n",
            " 5   neighbourhood group             102570 non-null  object \n",
            " 6   neighbourhood                   102583 non-null  object \n",
            " 7   lat                             102591 non-null  float64\n",
            " 8   long                            102591 non-null  float64\n",
            " 9   country                         102067 non-null  object \n",
            " 10  country code                    102468 non-null  object \n",
            " 11  instant_bookable                102494 non-null  object \n",
            " 12  cancellation_policy             102523 non-null  object \n",
            " 13  room type                       102599 non-null  object \n",
            " 14  Construction year               102385 non-null  float64\n",
            " 15  price                           102352 non-null  object \n",
            " 16  service fee                     102326 non-null  object \n",
            " 17  minimum nights                  102190 non-null  float64\n",
            " 18  number of reviews               102416 non-null  float64\n",
            " 19  last review                     86706 non-null   object \n",
            " 20  reviews per month               86720 non-null   float64\n",
            " 21  review rate number              102273 non-null  float64\n",
            " 22  calculated host listings count  102280 non-null  float64\n",
            " 23  availability 365                102151 non-null  float64\n",
            " 24  house_rules                     50468 non-null   object \n",
            " 25  license                         2 non-null       object \n",
            "dtypes: float64(9), int64(2), object(15)\n",
            "memory usage: 20.4+ MB\n"
          ]
        },
        {
          "output_type": "stream",
          "name": "stderr",
          "text": [
            "/tmp/ipython-input-347-2737908935.py:1: DtypeWarning: Columns (25) have mixed types. Specify dtype option on import or set low_memory=False.\n",
            "  data = pd.read_csv(\"/content/Airbnb_Open_Data.csv\", on_bad_lines=\"skip\")\n"
          ]
        }
      ]
    },
    {
      "cell_type": "code",
      "source": [
        "print(data.columns.tolist())\n",
        "cols_to_drop = [\"license\" , \"id\" , \"NAME\" , \"host id\" , \"host name\", \"neighbourhood\" ]\n",
        "data.drop(columns=cols_to_drop , inplace=True)\n",
        "print(\"data's columns : \" , data.shape[1])"
      ],
      "metadata": {
        "colab": {
          "base_uri": "https://localhost:8080/"
        },
        "id": "QFg6Cgn5yWOB",
        "outputId": "ba6bd5f3-3fdc-4a01-820b-174af4101042"
      },
      "execution_count": null,
      "outputs": [
        {
          "output_type": "stream",
          "name": "stdout",
          "text": [
            "['id', 'NAME', 'host id', 'host_identity_verified', 'host name', 'neighbourhood group', 'neighbourhood', 'lat', 'long', 'country', 'country code', 'instant_bookable', 'cancellation_policy', 'room type', 'Construction year', 'price', 'service fee', 'minimum nights', 'number of reviews', 'last review', 'reviews per month', 'review rate number', 'calculated host listings count', 'availability 365', 'house_rules', 'license']\n",
            "data's columns :  20\n"
          ]
        }
      ]
    },
    {
      "cell_type": "code",
      "source": [
        "obj_feats = []\n",
        "for col in data.columns:\n",
        "  if data[col].dtype == \"object\":\n",
        "    obj_feats.append(col)\n",
        "for i in obj_feats:\n",
        "  print(f\"{i} : {len(data[i].unique())}\")\n",
        "print(\"-\"*55)\n",
        "for i in obj_feats:\n",
        "  print(f\"{i} : {data[i].unique()}\")"
      ],
      "metadata": {
        "colab": {
          "base_uri": "https://localhost:8080/"
        },
        "collapsed": true,
        "id": "eZ-rVlK620xG",
        "outputId": "01fa5cdf-abab-4a96-e1fb-f51c90ac91d6"
      },
      "execution_count": null,
      "outputs": [
        {
          "output_type": "stream",
          "name": "stdout",
          "text": [
            "host_identity_verified : 3\n",
            "neighbourhood group : 8\n",
            "country : 2\n",
            "country code : 2\n",
            "instant_bookable : 3\n",
            "cancellation_policy : 4\n",
            "room type : 4\n",
            "price : 1152\n",
            "service fee : 232\n",
            "last review : 2478\n",
            "house_rules : 1977\n",
            "-------------------------------------------------------\n",
            "host_identity_verified : ['unconfirmed' 'verified' nan]\n",
            "neighbourhood group : ['Brooklyn' 'Manhattan' 'brookln' 'manhatan' 'Queens' nan 'Staten Island'\n",
            " 'Bronx']\n",
            "country : ['United States' nan]\n",
            "country code : ['US' nan]\n",
            "instant_bookable : [False True nan]\n",
            "cancellation_policy : ['strict' 'moderate' 'flexible' nan]\n",
            "room type : ['Private room' 'Entire home/apt' 'Shared room' 'Hotel room']\n",
            "price : ['$966 ' '$142 ' '$620 ' ... '$1,184 ' '$905 ' '$309 ']\n",
            "service fee : ['$193 ' '$28 ' '$124 ' '$74 ' '$41 ' '$115 ' '$14 ' '$212 ' '$204 '\n",
            " '$58 ' '$64 ' '$121 ' '$143 ' '$116 ' '$30 ' nan '$56 ' '$95 ' '$27 '\n",
            " '$210 ' '$163 ' '$235 ' '$106 ' '$55 ' '$42 ' '$86 ' '$133 ' '$154 '\n",
            " '$102 ' '$172 ' '$109 ' '$38 ' '$222 ' '$219 ' '$202 ' '$113 ' '$137 '\n",
            " '$171 ' '$12 ' '$87 ' '$183 ' '$92 ' '$73 ' '$146 ' '$180 ' '$67 ' '$51 '\n",
            " '$181 ' '$88 ' '$205 ' '$132 ' '$59 ' '$156 ' '$131 ' '$61 ' '$165 '\n",
            " '$129 ' '$207 ' '$17 ' '$63 ' '$147 ' '$105 ' '$48 ' '$114 ' '$80 '\n",
            " '$23 ' '$11 ' '$149 ' '$213 ' '$211 ' '$182 ' '$117 ' '$39 ' '$25 '\n",
            " '$216 ' '$53 ' '$10 ' '$118 ' '$72 ' '$76 ' '$69 ' '$32 ' '$148 ' '$101 '\n",
            " '$177 ' '$49 ' '$100 ' '$168 ' '$13 ' '$152 ' '$126 ' '$135 ' '$46 '\n",
            " '$231 ' '$91 ' '$199 ' '$158 ' '$221 ' '$189 ' '$90 ' '$186 ' '$66 '\n",
            " '$225 ' '$220 ' '$19 ' '$238 ' '$119 ' '$98 ' '$34 ' '$227 ' '$162 '\n",
            " '$203 ' '$93 ' '$153 ' '$71 ' '$77 ' '$190 ' '$75 ' '$185 ' '$97 ' '$35 '\n",
            " '$37 ' '$82 ' '$120 ' '$21 ' '$145 ' '$65 ' '$144 ' '$108 ' '$194 '\n",
            " '$16 ' '$217 ' '$188 ' '$81 ' '$139 ' '$22 ' '$187 ' '$150 ' '$50 '\n",
            " '$176 ' '$151 ' '$26 ' '$89 ' '$218 ' '$104 ' '$44 ' '$79 ' '$240 '\n",
            " '$175 ' '$192 ' '$215 ' '$191 ' '$94 ' '$206 ' '$157 ' '$159 ' '$233 '\n",
            " '$15 ' '$229 ' '$179 ' '$85 ' '$136 ' '$170 ' '$201 ' '$141 ' '$123 '\n",
            " '$36 ' '$130 ' '$198 ' '$54 ' '$122 ' '$184 ' '$208 ' '$140 ' '$68 '\n",
            " '$196 ' '$70 ' '$228 ' '$209 ' '$230 ' '$134 ' '$20 ' '$110 ' '$234 '\n",
            " '$107 ' '$138 ' '$45 ' '$24 ' '$31 ' '$29 ' '$232 ' '$47 ' '$239 '\n",
            " '$161 ' '$200 ' '$33 ' '$103 ' '$83 ' '$128 ' '$166 ' '$125 ' '$43 '\n",
            " '$18 ' '$167 ' '$174 ' '$236 ' '$111 ' '$142 ' '$223 ' '$169 ' '$178 '\n",
            " '$195 ' '$40 ' '$52 ' '$96 ' '$224 ' '$197 ' '$164 ' '$127 ' '$62 '\n",
            " '$99 ' '$84 ' '$237 ' '$155 ' '$57 ' '$226 ' '$160 ' '$173 ' '$60 '\n",
            " '$214 ' '$78 ' '$112 ']\n",
            "last review : ['10/19/2021' '5/21/2022' nan ... '2/26/2020' '2/25/2020' '2/24/2020']\n",
            "house_rules : [\"Clean up and treat the home the way you'd like your home to be treated.  No smoking.\"\n",
            " 'Pet friendly but please confirm with me if the pet you are planning on bringing with you is OK. I have a cute and quiet mixed chihuahua. I could accept more guests (for an extra fee) but this also needs to be confirmed beforehand. Also friends traveling together could sleep in separate beds for an extra fee (the second bed is either a sofa bed or inflatable bed). Smoking is only allowed on the porch.'\n",
            " \"I encourage you to use my kitchen, cooking and laundry facilities. There is no additional charge to use the washer/dryer in the basement.  No smoking, inside or outside. Come home as late as you want.  If you come home stumbling drunk, it's OK the first time. If you do it again, and you wake up me or the neighbors downstairs, we will be annoyed.  (Just so you know . . . )\"\n",
            " ...\n",
            " '15 nights minimum stay No pets at any time No smoking Please be mindful of the furniture and personal belongings, it was all furnished with designer pieces and hard to replace things.'\n",
            " 'House rules: Guests agree to the following terms and conditions 1.Guest(s) agree to NO PARTIES anywhere on the property. Legal action will be taken for parties that cause damages to the unit, property, reputation, or relationship with building staff or other residents.  2.Smoking of any kind is not permitted in the unit or on the premises.  3.Guests agree to abide by maximum occupancy of unit, and observe quiet hours between 9pm and 9am 4.Guests are responsible for action of ALL GUESTS occupying their unit at all times.  5.Guests agree to return all keys, remotes, and parking passes. Replacement fees may apply for unreturned items 6.Guests understand that onsite building staff (maintenance and concierge) are not affiliated with Jordan or AIRBNB. Please contact me directly for any needed items. 7.Guests understand that no pets are to be in the unit.  8.Guests agree to pay replacement cost for any unreturned items, and $125 per hour fee for unauthorized early checkin or late checkout.  22'\n",
            " '16 nights minimum stay, no smoking or pets.']\n"
          ]
        }
      ]
    },
    {
      "cell_type": "code",
      "source": [
        "obj_to_drop = ['last review' , 'house_rules' , 'service fee' , \"country\" , \"country code\"]\n",
        "data.drop(columns=obj_to_drop , inplace=True)"
      ],
      "metadata": {
        "id": "Sju7zPjY29qT"
      },
      "execution_count": null,
      "outputs": []
    },
    {
      "cell_type": "code",
      "source": [
        "colsobject = ['cancellation_policy' ,\"host_identity_verified\" ,\n",
        "              \"instant_bookable\" ,\"neighbourhood group\" ,\"room type\"]\n",
        "\n",
        "for x in colsobject[:-1]:\n",
        "  print(f\"{x} : {data[x].isnull().sum()}\")\n",
        "\n",
        "def dropnan(data , features):\n",
        "  for col in features:\n",
        "      data.dropna(subset=[col] , inplace=True)\n",
        "dropnan(data , colsobject)\n",
        "print()\n",
        "for x in colsobject[:-1]:\n",
        "  print(f\"{x} : {data[x].isnull().sum()}\")"
      ],
      "metadata": {
        "colab": {
          "base_uri": "https://localhost:8080/"
        },
        "id": "qcW3349I6zWN",
        "outputId": "a652ae04-af68-4d61-e858-366e55585730"
      },
      "execution_count": null,
      "outputs": [
        {
          "output_type": "stream",
          "name": "stdout",
          "text": [
            "cancellation_policy : 76\n",
            "host_identity_verified : 289\n",
            "instant_bookable : 105\n",
            "neighbourhood group : 29\n",
            "\n",
            "cancellation_policy : 0\n",
            "host_identity_verified : 0\n",
            "instant_bookable : 0\n",
            "neighbourhood group : 0\n"
          ]
        }
      ]
    },
    {
      "cell_type": "code",
      "source": [
        "for col in colsobject:\n",
        "    print(f\"{col} : {data[col].isnull().sum()}\")\n",
        "print()\n",
        "for col in colsobject:\n",
        "    print(f\"{col} : {data[col].unique()}\")"
      ],
      "metadata": {
        "colab": {
          "base_uri": "https://localhost:8080/"
        },
        "id": "j4Sp_VAY4zUo",
        "outputId": "363b15ff-6f5f-40a1-c037-a0608bda04e6"
      },
      "execution_count": null,
      "outputs": [
        {
          "output_type": "stream",
          "name": "stdout",
          "text": [
            "cancellation_policy : 0\n",
            "host_identity_verified : 0\n",
            "instant_bookable : 0\n",
            "neighbourhood group : 0\n",
            "room type : 0\n",
            "\n",
            "cancellation_policy : ['strict' 'moderate' 'flexible']\n",
            "host_identity_verified : ['unconfirmed' 'verified']\n",
            "instant_bookable : [False True]\n",
            "neighbourhood group : ['Brooklyn' 'Manhattan' 'brookln' 'Queens' 'Staten Island' 'Bronx']\n",
            "room type : ['Private room' 'Entire home/apt' 'Shared room' 'Hotel room']\n"
          ]
        }
      ]
    },
    {
      "cell_type": "code",
      "source": [
        "onehotenc = ['room type','neighbourhood group' ]\n",
        "labelenc = [\"cancellation_policy\", \"instant_bookable\",\"host_identity_verified\"]\n",
        "\n",
        "lab = LabelEncoder()\n",
        "data['Construction year'] = lab.fit_transform(data['Construction year'])\n",
        "\n",
        "def encode(data , features):\n",
        "   for col in features:\n",
        "      data[col] = lab.fit_transform(data[col])\n",
        "   return data\n",
        "\n",
        "def hotencode(data, feature_cols):\n",
        "    for col in feature_cols:\n",
        "        dummies = pd.get_dummies(data[col], prefix=col, drop_first=True)\n",
        "        data = pd.concat([data, dummies], axis=1)\n",
        "        data.drop(col, axis=1, inplace=True)\n",
        "    return data\n",
        "\n",
        "data = encode(data , labelenc)\n",
        "data = hotencode(data, onehotenc)\n",
        "bool_cols = [col for col in data.columns if data[col].dtype == 'bool']\n",
        "data[bool_cols] = data[bool_cols].astype(int)\n",
        "print(data.shape)"
      ],
      "metadata": {
        "colab": {
          "base_uri": "https://localhost:8080/"
        },
        "id": "-P4nUCx15sAU",
        "outputId": "30e0bdd3-9128-4edd-c275-12d094eb7922"
      },
      "execution_count": null,
      "outputs": [
        {
          "output_type": "stream",
          "name": "stdout",
          "text": [
            "(102193, 21)\n"
          ]
        }
      ]
    },
    {
      "cell_type": "code",
      "source": [
        "print(data.info())"
      ],
      "metadata": {
        "colab": {
          "base_uri": "https://localhost:8080/"
        },
        "id": "-Oob2vQ5AKcO",
        "outputId": "635b4e6c-5719-419e-819e-cb727370cdea"
      },
      "execution_count": null,
      "outputs": [
        {
          "output_type": "stream",
          "name": "stdout",
          "text": [
            "<class 'pandas.core.frame.DataFrame'>\n",
            "Index: 102193 entries, 0 to 102598\n",
            "Data columns (total 21 columns):\n",
            " #   Column                             Non-Null Count   Dtype  \n",
            "---  ------                             --------------   -----  \n",
            " 0   host_identity_verified             102193 non-null  int64  \n",
            " 1   lat                                102185 non-null  float64\n",
            " 2   long                               102185 non-null  float64\n",
            " 3   instant_bookable                   102193 non-null  int64  \n",
            " 4   cancellation_policy                102193 non-null  int64  \n",
            " 5   Construction year                  102193 non-null  int64  \n",
            " 6   price                              101956 non-null  object \n",
            " 7   minimum nights                     101801 non-null  float64\n",
            " 8   number of reviews                  102010 non-null  float64\n",
            " 9   reviews per month                  86366 non-null   float64\n",
            " 10  review rate number                 101895 non-null  float64\n",
            " 11  calculated host listings count     101883 non-null  float64\n",
            " 12  availability 365                   101769 non-null  float64\n",
            " 13  room type_Hotel room               102193 non-null  int64  \n",
            " 14  room type_Private room             102193 non-null  int64  \n",
            " 15  room type_Shared room              102193 non-null  int64  \n",
            " 16  neighbourhood group_Brooklyn       102193 non-null  int64  \n",
            " 17  neighbourhood group_Manhattan      102193 non-null  int64  \n",
            " 18  neighbourhood group_Queens         102193 non-null  int64  \n",
            " 19  neighbourhood group_Staten Island  102193 non-null  int64  \n",
            " 20  neighbourhood group_brookln        102193 non-null  int64  \n",
            "dtypes: float64(8), int64(12), object(1)\n",
            "memory usage: 17.2+ MB\n",
            "None\n"
          ]
        }
      ]
    },
    {
      "cell_type": "markdown",
      "source": [
        "# part 2 : **handling** numbers"
      ],
      "metadata": {
        "id": "IQ2NjMfmDpnm"
      }
    },
    {
      "cell_type": "code",
      "source": [
        "# oops i forgot this\n",
        "print(data['price'][:5])\n",
        "def clean_price(x):\n",
        "    x = str(x).replace('$', '').replace(',', '')\n",
        "    return float(x)\n",
        "\n",
        "data['price'] = data['price'].apply(clean_price)\n",
        "print()\n",
        "print(data['price'][:5])"
      ],
      "metadata": {
        "colab": {
          "base_uri": "https://localhost:8080/"
        },
        "id": "nCAOcmnhC8D6",
        "outputId": "3454b322-1694-4ca6-8c71-f9f189777e01"
      },
      "execution_count": null,
      "outputs": [
        {
          "output_type": "stream",
          "name": "stdout",
          "text": [
            "0    $966 \n",
            "1    $142 \n",
            "3    $368 \n",
            "4    $204 \n",
            "5    $577 \n",
            "Name: price, dtype: object\n",
            "\n",
            "0    966.0\n",
            "1    142.0\n",
            "3    368.0\n",
            "4    204.0\n",
            "5    577.0\n",
            "Name: price, dtype: float64\n"
          ]
        }
      ]
    },
    {
      "cell_type": "code",
      "source": [
        "for v in data.columns:\n",
        "  print(f\"{v} : {data[v].isnull().sum()}\")"
      ],
      "metadata": {
        "colab": {
          "base_uri": "https://localhost:8080/"
        },
        "id": "Kx4Wzh2nD7DD",
        "outputId": "fd15bb16-b1a7-447b-b1db-398f178e5155"
      },
      "execution_count": null,
      "outputs": [
        {
          "output_type": "stream",
          "name": "stdout",
          "text": [
            "host_identity_verified : 0\n",
            "lat : 8\n",
            "long : 8\n",
            "instant_bookable : 0\n",
            "cancellation_policy : 0\n",
            "Construction year : 0\n",
            "price : 237\n",
            "minimum nights : 392\n",
            "number of reviews : 183\n",
            "reviews per month : 15827\n",
            "review rate number : 298\n",
            "calculated host listings count : 310\n",
            "availability 365 : 424\n",
            "room type_Hotel room : 0\n",
            "room type_Private room : 0\n",
            "room type_Shared room : 0\n",
            "neighbourhood group_Brooklyn : 0\n",
            "neighbourhood group_Manhattan : 0\n",
            "neighbourhood group_Queens : 0\n",
            "neighbourhood group_Staten Island : 0\n",
            "neighbourhood group_brookln : 0\n"
          ]
        }
      ]
    },
    {
      "cell_type": "code",
      "source": [
        "data.drop(columns=['reviews per month' , 'availability 365'] , inplace=True)\n",
        "cols_to_impute = [\"lat\" , \"long\" , \"price\" ,\"minimum nights\" , \"number of reviews\", \"review rate number\", \"calculated host listings count\"]\n",
        "\n",
        "imputer = SimpleImputer(strategy='mean')\n",
        "def impute(data , columns):\n",
        "  for colu in columns:\n",
        "    data[colu] = imputer.fit_transform(data[[colu]])\n",
        "  return data\n",
        "data = impute(data , cols_to_impute)"
      ],
      "metadata": {
        "id": "5nKRwl-jF3pt"
      },
      "execution_count": null,
      "outputs": []
    },
    {
      "cell_type": "code",
      "source": [
        "print(\"after : \\n\")\n",
        "for v in data.columns:\n",
        "  print(f\"{v} : {data[v].isnull().sum()}\")"
      ],
      "metadata": {
        "colab": {
          "base_uri": "https://localhost:8080/"
        },
        "id": "fa9d2qD1HGeS",
        "outputId": "f2a3f1d7-6855-464b-9be0-eb8e251fcc04"
      },
      "execution_count": null,
      "outputs": [
        {
          "output_type": "stream",
          "name": "stdout",
          "text": [
            "after : \n",
            "\n",
            "host_identity_verified : 0\n",
            "lat : 0\n",
            "long : 0\n",
            "instant_bookable : 0\n",
            "cancellation_policy : 0\n",
            "Construction year : 0\n",
            "price : 0\n",
            "minimum nights : 0\n",
            "number of reviews : 0\n",
            "review rate number : 0\n",
            "calculated host listings count : 0\n",
            "room type_Hotel room : 0\n",
            "room type_Private room : 0\n",
            "room type_Shared room : 0\n",
            "neighbourhood group_Brooklyn : 0\n",
            "neighbourhood group_Manhattan : 0\n",
            "neighbourhood group_Queens : 0\n",
            "neighbourhood group_Staten Island : 0\n",
            "neighbourhood group_brookln : 0\n"
          ]
        }
      ]
    },
    {
      "cell_type": "code",
      "source": [
        "data.head()\n",
        "feats_toscale = [\"calculated host listings count\" ,\"review rate number\", \"lat\",\n",
        "                 \"number of reviews\", \"minimum nights\", \"Construction year\", \"long\"]\n",
        "scaler = StandardScaler()\n",
        "\n",
        "def scale(data , features):\n",
        "  for s in features:\n",
        "    data[s] = scaler.fit_transform(data[[s]])\n",
        "  return data\n",
        "data = scale(data , feats_toscale)\n",
        "data.head()"
      ],
      "metadata": {
        "colab": {
          "base_uri": "https://localhost:8080/",
          "height": 278
        },
        "id": "lhjl6iEmJMfK",
        "outputId": "965c3d5e-84d2-455d-f985-d03adfee3a46"
      },
      "execution_count": null,
      "outputs": [
        {
          "output_type": "execute_result",
          "data": {
            "text/plain": [
              "   host_identity_verified       lat      long  instant_bookable  \\\n",
              "0                       0 -1.443199 -0.459172                 0   \n",
              "1                       1  0.457046 -0.689300                 0   \n",
              "3                       0 -0.769080 -0.204618                 1   \n",
              "4                       1  1.260796  0.113727                 0   \n",
              "5                       1  0.350512 -0.512263                 1   \n",
              "\n",
              "   cancellation_policy  Construction year  price  minimum nights  \\\n",
              "0                    2           1.296607  966.0        0.061474   \n",
              "1                    1          -0.953483  142.0        0.717922   \n",
              "3                    1          -1.299651  368.0        0.717922   \n",
              "4                    1          -0.607315  204.0        0.061474   \n",
              "5                    0           0.085020  577.0       -0.168283   \n",
              "\n",
              "   number of reviews  review rate number  calculated host listings count  \\\n",
              "0          -0.372797            0.561987                       -0.060465   \n",
              "1           0.357631            0.561987                       -0.184710   \n",
              "3           4.922805            0.561987                       -0.215771   \n",
              "4          -0.372797           -0.217683                       -0.215771   \n",
              "5           0.946031           -0.217683                       -0.215771   \n",
              "\n",
              "   room type_Hotel room  room type_Private room  room type_Shared room  \\\n",
              "0                     0                       1                      0   \n",
              "1                     0                       0                      0   \n",
              "3                     0                       0                      0   \n",
              "4                     0                       0                      0   \n",
              "5                     0                       0                      0   \n",
              "\n",
              "   neighbourhood group_Brooklyn  neighbourhood group_Manhattan  \\\n",
              "0                             1                              0   \n",
              "1                             0                              1   \n",
              "3                             1                              0   \n",
              "4                             0                              1   \n",
              "5                             0                              1   \n",
              "\n",
              "   neighbourhood group_Queens  neighbourhood group_Staten Island  \\\n",
              "0                           0                                  0   \n",
              "1                           0                                  0   \n",
              "3                           0                                  0   \n",
              "4                           0                                  0   \n",
              "5                           0                                  0   \n",
              "\n",
              "   neighbourhood group_brookln  \n",
              "0                            0  \n",
              "1                            0  \n",
              "3                            0  \n",
              "4                            0  \n",
              "5                            0  "
            ],
            "text/html": [
              "\n",
              "  <div id=\"df-85e4a90c-b938-4168-8c69-3b7813cd4973\" class=\"colab-df-container\">\n",
              "    <div>\n",
              "<style scoped>\n",
              "    .dataframe tbody tr th:only-of-type {\n",
              "        vertical-align: middle;\n",
              "    }\n",
              "\n",
              "    .dataframe tbody tr th {\n",
              "        vertical-align: top;\n",
              "    }\n",
              "\n",
              "    .dataframe thead th {\n",
              "        text-align: right;\n",
              "    }\n",
              "</style>\n",
              "<table border=\"1\" class=\"dataframe\">\n",
              "  <thead>\n",
              "    <tr style=\"text-align: right;\">\n",
              "      <th></th>\n",
              "      <th>host_identity_verified</th>\n",
              "      <th>lat</th>\n",
              "      <th>long</th>\n",
              "      <th>instant_bookable</th>\n",
              "      <th>cancellation_policy</th>\n",
              "      <th>Construction year</th>\n",
              "      <th>price</th>\n",
              "      <th>minimum nights</th>\n",
              "      <th>number of reviews</th>\n",
              "      <th>review rate number</th>\n",
              "      <th>calculated host listings count</th>\n",
              "      <th>room type_Hotel room</th>\n",
              "      <th>room type_Private room</th>\n",
              "      <th>room type_Shared room</th>\n",
              "      <th>neighbourhood group_Brooklyn</th>\n",
              "      <th>neighbourhood group_Manhattan</th>\n",
              "      <th>neighbourhood group_Queens</th>\n",
              "      <th>neighbourhood group_Staten Island</th>\n",
              "      <th>neighbourhood group_brookln</th>\n",
              "    </tr>\n",
              "  </thead>\n",
              "  <tbody>\n",
              "    <tr>\n",
              "      <th>0</th>\n",
              "      <td>0</td>\n",
              "      <td>-1.443199</td>\n",
              "      <td>-0.459172</td>\n",
              "      <td>0</td>\n",
              "      <td>2</td>\n",
              "      <td>1.296607</td>\n",
              "      <td>966.0</td>\n",
              "      <td>0.061474</td>\n",
              "      <td>-0.372797</td>\n",
              "      <td>0.561987</td>\n",
              "      <td>-0.060465</td>\n",
              "      <td>0</td>\n",
              "      <td>1</td>\n",
              "      <td>0</td>\n",
              "      <td>1</td>\n",
              "      <td>0</td>\n",
              "      <td>0</td>\n",
              "      <td>0</td>\n",
              "      <td>0</td>\n",
              "    </tr>\n",
              "    <tr>\n",
              "      <th>1</th>\n",
              "      <td>1</td>\n",
              "      <td>0.457046</td>\n",
              "      <td>-0.689300</td>\n",
              "      <td>0</td>\n",
              "      <td>1</td>\n",
              "      <td>-0.953483</td>\n",
              "      <td>142.0</td>\n",
              "      <td>0.717922</td>\n",
              "      <td>0.357631</td>\n",
              "      <td>0.561987</td>\n",
              "      <td>-0.184710</td>\n",
              "      <td>0</td>\n",
              "      <td>0</td>\n",
              "      <td>0</td>\n",
              "      <td>0</td>\n",
              "      <td>1</td>\n",
              "      <td>0</td>\n",
              "      <td>0</td>\n",
              "      <td>0</td>\n",
              "    </tr>\n",
              "    <tr>\n",
              "      <th>3</th>\n",
              "      <td>0</td>\n",
              "      <td>-0.769080</td>\n",
              "      <td>-0.204618</td>\n",
              "      <td>1</td>\n",
              "      <td>1</td>\n",
              "      <td>-1.299651</td>\n",
              "      <td>368.0</td>\n",
              "      <td>0.717922</td>\n",
              "      <td>4.922805</td>\n",
              "      <td>0.561987</td>\n",
              "      <td>-0.215771</td>\n",
              "      <td>0</td>\n",
              "      <td>0</td>\n",
              "      <td>0</td>\n",
              "      <td>1</td>\n",
              "      <td>0</td>\n",
              "      <td>0</td>\n",
              "      <td>0</td>\n",
              "      <td>0</td>\n",
              "    </tr>\n",
              "    <tr>\n",
              "      <th>4</th>\n",
              "      <td>1</td>\n",
              "      <td>1.260796</td>\n",
              "      <td>0.113727</td>\n",
              "      <td>0</td>\n",
              "      <td>1</td>\n",
              "      <td>-0.607315</td>\n",
              "      <td>204.0</td>\n",
              "      <td>0.061474</td>\n",
              "      <td>-0.372797</td>\n",
              "      <td>-0.217683</td>\n",
              "      <td>-0.215771</td>\n",
              "      <td>0</td>\n",
              "      <td>0</td>\n",
              "      <td>0</td>\n",
              "      <td>0</td>\n",
              "      <td>1</td>\n",
              "      <td>0</td>\n",
              "      <td>0</td>\n",
              "      <td>0</td>\n",
              "    </tr>\n",
              "    <tr>\n",
              "      <th>5</th>\n",
              "      <td>1</td>\n",
              "      <td>0.350512</td>\n",
              "      <td>-0.512263</td>\n",
              "      <td>1</td>\n",
              "      <td>0</td>\n",
              "      <td>0.085020</td>\n",
              "      <td>577.0</td>\n",
              "      <td>-0.168283</td>\n",
              "      <td>0.946031</td>\n",
              "      <td>-0.217683</td>\n",
              "      <td>-0.215771</td>\n",
              "      <td>0</td>\n",
              "      <td>0</td>\n",
              "      <td>0</td>\n",
              "      <td>0</td>\n",
              "      <td>1</td>\n",
              "      <td>0</td>\n",
              "      <td>0</td>\n",
              "      <td>0</td>\n",
              "    </tr>\n",
              "  </tbody>\n",
              "</table>\n",
              "</div>\n",
              "    <div class=\"colab-df-buttons\">\n",
              "\n",
              "  <div class=\"colab-df-container\">\n",
              "    <button class=\"colab-df-convert\" onclick=\"convertToInteractive('df-85e4a90c-b938-4168-8c69-3b7813cd4973')\"\n",
              "            title=\"Convert this dataframe to an interactive table.\"\n",
              "            style=\"display:none;\">\n",
              "\n",
              "  <svg xmlns=\"http://www.w3.org/2000/svg\" height=\"24px\" viewBox=\"0 -960 960 960\">\n",
              "    <path d=\"M120-120v-720h720v720H120Zm60-500h600v-160H180v160Zm220 220h160v-160H400v160Zm0 220h160v-160H400v160ZM180-400h160v-160H180v160Zm440 0h160v-160H620v160ZM180-180h160v-160H180v160Zm440 0h160v-160H620v160Z\"/>\n",
              "  </svg>\n",
              "    </button>\n",
              "\n",
              "  <style>\n",
              "    .colab-df-container {\n",
              "      display:flex;\n",
              "      gap: 12px;\n",
              "    }\n",
              "\n",
              "    .colab-df-convert {\n",
              "      background-color: #E8F0FE;\n",
              "      border: none;\n",
              "      border-radius: 50%;\n",
              "      cursor: pointer;\n",
              "      display: none;\n",
              "      fill: #1967D2;\n",
              "      height: 32px;\n",
              "      padding: 0 0 0 0;\n",
              "      width: 32px;\n",
              "    }\n",
              "\n",
              "    .colab-df-convert:hover {\n",
              "      background-color: #E2EBFA;\n",
              "      box-shadow: 0px 1px 2px rgba(60, 64, 67, 0.3), 0px 1px 3px 1px rgba(60, 64, 67, 0.15);\n",
              "      fill: #174EA6;\n",
              "    }\n",
              "\n",
              "    .colab-df-buttons div {\n",
              "      margin-bottom: 4px;\n",
              "    }\n",
              "\n",
              "    [theme=dark] .colab-df-convert {\n",
              "      background-color: #3B4455;\n",
              "      fill: #D2E3FC;\n",
              "    }\n",
              "\n",
              "    [theme=dark] .colab-df-convert:hover {\n",
              "      background-color: #434B5C;\n",
              "      box-shadow: 0px 1px 3px 1px rgba(0, 0, 0, 0.15);\n",
              "      filter: drop-shadow(0px 1px 2px rgba(0, 0, 0, 0.3));\n",
              "      fill: #FFFFFF;\n",
              "    }\n",
              "  </style>\n",
              "\n",
              "    <script>\n",
              "      const buttonEl =\n",
              "        document.querySelector('#df-85e4a90c-b938-4168-8c69-3b7813cd4973 button.colab-df-convert');\n",
              "      buttonEl.style.display =\n",
              "        google.colab.kernel.accessAllowed ? 'block' : 'none';\n",
              "\n",
              "      async function convertToInteractive(key) {\n",
              "        const element = document.querySelector('#df-85e4a90c-b938-4168-8c69-3b7813cd4973');\n",
              "        const dataTable =\n",
              "          await google.colab.kernel.invokeFunction('convertToInteractive',\n",
              "                                                    [key], {});\n",
              "        if (!dataTable) return;\n",
              "\n",
              "        const docLinkHtml = 'Like what you see? Visit the ' +\n",
              "          '<a target=\"_blank\" href=https://colab.research.google.com/notebooks/data_table.ipynb>data table notebook</a>'\n",
              "          + ' to learn more about interactive tables.';\n",
              "        element.innerHTML = '';\n",
              "        dataTable['output_type'] = 'display_data';\n",
              "        await google.colab.output.renderOutput(dataTable, element);\n",
              "        const docLink = document.createElement('div');\n",
              "        docLink.innerHTML = docLinkHtml;\n",
              "        element.appendChild(docLink);\n",
              "      }\n",
              "    </script>\n",
              "  </div>\n",
              "\n",
              "\n",
              "    <div id=\"df-52a8bc1d-9f04-4fae-9b69-4ebcd3f81d21\">\n",
              "      <button class=\"colab-df-quickchart\" onclick=\"quickchart('df-52a8bc1d-9f04-4fae-9b69-4ebcd3f81d21')\"\n",
              "                title=\"Suggest charts\"\n",
              "                style=\"display:none;\">\n",
              "\n",
              "<svg xmlns=\"http://www.w3.org/2000/svg\" height=\"24px\"viewBox=\"0 0 24 24\"\n",
              "     width=\"24px\">\n",
              "    <g>\n",
              "        <path d=\"M19 3H5c-1.1 0-2 .9-2 2v14c0 1.1.9 2 2 2h14c1.1 0 2-.9 2-2V5c0-1.1-.9-2-2-2zM9 17H7v-7h2v7zm4 0h-2V7h2v10zm4 0h-2v-4h2v4z\"/>\n",
              "    </g>\n",
              "</svg>\n",
              "      </button>\n",
              "\n",
              "<style>\n",
              "  .colab-df-quickchart {\n",
              "      --bg-color: #E8F0FE;\n",
              "      --fill-color: #1967D2;\n",
              "      --hover-bg-color: #E2EBFA;\n",
              "      --hover-fill-color: #174EA6;\n",
              "      --disabled-fill-color: #AAA;\n",
              "      --disabled-bg-color: #DDD;\n",
              "  }\n",
              "\n",
              "  [theme=dark] .colab-df-quickchart {\n",
              "      --bg-color: #3B4455;\n",
              "      --fill-color: #D2E3FC;\n",
              "      --hover-bg-color: #434B5C;\n",
              "      --hover-fill-color: #FFFFFF;\n",
              "      --disabled-bg-color: #3B4455;\n",
              "      --disabled-fill-color: #666;\n",
              "  }\n",
              "\n",
              "  .colab-df-quickchart {\n",
              "    background-color: var(--bg-color);\n",
              "    border: none;\n",
              "    border-radius: 50%;\n",
              "    cursor: pointer;\n",
              "    display: none;\n",
              "    fill: var(--fill-color);\n",
              "    height: 32px;\n",
              "    padding: 0;\n",
              "    width: 32px;\n",
              "  }\n",
              "\n",
              "  .colab-df-quickchart:hover {\n",
              "    background-color: var(--hover-bg-color);\n",
              "    box-shadow: 0 1px 2px rgba(60, 64, 67, 0.3), 0 1px 3px 1px rgba(60, 64, 67, 0.15);\n",
              "    fill: var(--button-hover-fill-color);\n",
              "  }\n",
              "\n",
              "  .colab-df-quickchart-complete:disabled,\n",
              "  .colab-df-quickchart-complete:disabled:hover {\n",
              "    background-color: var(--disabled-bg-color);\n",
              "    fill: var(--disabled-fill-color);\n",
              "    box-shadow: none;\n",
              "  }\n",
              "\n",
              "  .colab-df-spinner {\n",
              "    border: 2px solid var(--fill-color);\n",
              "    border-color: transparent;\n",
              "    border-bottom-color: var(--fill-color);\n",
              "    animation:\n",
              "      spin 1s steps(1) infinite;\n",
              "  }\n",
              "\n",
              "  @keyframes spin {\n",
              "    0% {\n",
              "      border-color: transparent;\n",
              "      border-bottom-color: var(--fill-color);\n",
              "      border-left-color: var(--fill-color);\n",
              "    }\n",
              "    20% {\n",
              "      border-color: transparent;\n",
              "      border-left-color: var(--fill-color);\n",
              "      border-top-color: var(--fill-color);\n",
              "    }\n",
              "    30% {\n",
              "      border-color: transparent;\n",
              "      border-left-color: var(--fill-color);\n",
              "      border-top-color: var(--fill-color);\n",
              "      border-right-color: var(--fill-color);\n",
              "    }\n",
              "    40% {\n",
              "      border-color: transparent;\n",
              "      border-right-color: var(--fill-color);\n",
              "      border-top-color: var(--fill-color);\n",
              "    }\n",
              "    60% {\n",
              "      border-color: transparent;\n",
              "      border-right-color: var(--fill-color);\n",
              "    }\n",
              "    80% {\n",
              "      border-color: transparent;\n",
              "      border-right-color: var(--fill-color);\n",
              "      border-bottom-color: var(--fill-color);\n",
              "    }\n",
              "    90% {\n",
              "      border-color: transparent;\n",
              "      border-bottom-color: var(--fill-color);\n",
              "    }\n",
              "  }\n",
              "</style>\n",
              "\n",
              "      <script>\n",
              "        async function quickchart(key) {\n",
              "          const quickchartButtonEl =\n",
              "            document.querySelector('#' + key + ' button');\n",
              "          quickchartButtonEl.disabled = true;  // To prevent multiple clicks.\n",
              "          quickchartButtonEl.classList.add('colab-df-spinner');\n",
              "          try {\n",
              "            const charts = await google.colab.kernel.invokeFunction(\n",
              "                'suggestCharts', [key], {});\n",
              "          } catch (error) {\n",
              "            console.error('Error during call to suggestCharts:', error);\n",
              "          }\n",
              "          quickchartButtonEl.classList.remove('colab-df-spinner');\n",
              "          quickchartButtonEl.classList.add('colab-df-quickchart-complete');\n",
              "        }\n",
              "        (() => {\n",
              "          let quickchartButtonEl =\n",
              "            document.querySelector('#df-52a8bc1d-9f04-4fae-9b69-4ebcd3f81d21 button');\n",
              "          quickchartButtonEl.style.display =\n",
              "            google.colab.kernel.accessAllowed ? 'block' : 'none';\n",
              "        })();\n",
              "      </script>\n",
              "    </div>\n",
              "\n",
              "    </div>\n",
              "  </div>\n"
            ],
            "application/vnd.google.colaboratory.intrinsic+json": {
              "type": "dataframe",
              "variable_name": "data"
            }
          },
          "metadata": {},
          "execution_count": 359
        }
      ]
    },
    {
      "cell_type": "code",
      "source": [
        "target = 'price'\n",
        "X = data.drop(columns=target)\n",
        "y = data[target]"
      ],
      "metadata": {
        "id": "eV1lQkeEJzOB"
      },
      "execution_count": null,
      "outputs": []
    },
    {
      "cell_type": "markdown",
      "source": [
        "# **splitting data**\n",
        "\n",
        "\n"
      ],
      "metadata": {
        "id": "uQz_NeKsL4xf"
      }
    },
    {
      "cell_type": "code",
      "source": [
        "x_train, x_test, y_train, y_tets = train_test_split(X, y, test_size=0.25, random_state=10, shuffle=True)"
      ],
      "metadata": {
        "id": "EO89RhrILdZ8"
      },
      "execution_count": null,
      "outputs": []
    }
  ]
}